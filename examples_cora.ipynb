{
 "cells": [
  {
   "cell_type": "markdown",
   "source": [
    "# Import packages"
   ],
   "metadata": {
    "collapsed": false
   }
  },
  {
   "cell_type": "code",
   "execution_count": 1,
   "outputs": [
    {
     "name": "stdout",
     "output_type": "stream",
     "text": [
      "  NumNodes: 2708\n",
      "  NumEdges: 10556\n",
      "  NumFeats: 1433\n",
      "  NumClasses: 7\n",
      "  NumTrainingSamples: 140\n",
      "  NumValidationSamples: 500\n",
      "  NumTestSamples: 1000\n",
      "Done loading data from cached files.\n",
      "  NumNodes: 2708\n",
      "  NumEdges: 10556\n",
      "  NumFeats: 1433\n",
      "  NumClasses: 7\n",
      "  NumTrainingSamples: 140\n",
      "  NumValidationSamples: 500\n",
      "  NumTestSamples: 1000\n",
      "Done loading data from cached files.\n"
     ]
    }
   ],
   "source": [
    "import os\n",
    "import sys\n",
    "\n",
    "import numpy as np\n",
    "import torch\n",
    "import os.path as osp\n",
    "import losses as L\n",
    "import augmentors as A\n",
    "import torch.nn.functional as F\n",
    "import torch_geometric.transforms as T\n",
    "\n",
    "from tqdm import tqdm\n",
    "from torch.optim import Adam\n",
    "from eval import get_split, LREvaluator\n",
    "from models import DualBranchContrast\n",
    "from torch_geometric.nn import GCNConv\n",
    "from torch_geometric.datasets import Planetoid"
   ],
   "metadata": {
    "collapsed": false,
    "pycharm": {
     "name": "#%%\n"
    }
   }
  },
  {
   "cell_type": "markdown",
   "source": [
    "# Dependencies"
   ],
   "metadata": {
    "collapsed": false
   }
  },
  {
   "cell_type": "markdown",
   "source": [
    "## Define Classes and Training Pipeline"
   ],
   "metadata": {
    "collapsed": false
   }
  },
  {
   "cell_type": "code",
   "execution_count": 2,
   "outputs": [],
   "source": [
    "class GConv(torch.nn.Module):\n",
    "    def __init__(self, input_dim, hidden_dim, activation, num_layers):\n",
    "        super(GConv, self).__init__()\n",
    "        self.activation = activation()\n",
    "        self.layers = torch.nn.ModuleList()\n",
    "        self.layers.append(GCNConv(input_dim, hidden_dim, cached=False))\n",
    "        for _ in range(num_layers - 1):\n",
    "            self.layers.append(GCNConv(hidden_dim, hidden_dim, cached=False))\n",
    "\n",
    "    def forward(self, x, edge_index, edge_weight=None):\n",
    "        z = x\n",
    "        for i, conv in enumerate(self.layers):\n",
    "            z = conv(z, edge_index, edge_weight)\n",
    "            z = self.activation(z)\n",
    "        return z\n",
    "\n",
    "\n",
    "class Encoder(torch.nn.Module):\n",
    "    def __init__(self, encoder, augmentor, hidden_dim, proj_dim):\n",
    "        super(Encoder, self).__init__()\n",
    "        self.encoder = encoder\n",
    "        self.augmentor = augmentor\n",
    "\n",
    "        self.fc1 = torch.nn.Linear(hidden_dim, proj_dim)\n",
    "        self.fc2 = torch.nn.Linear(proj_dim, hidden_dim)\n",
    "\n",
    "    def forward(self, x, edge_index, edge_weight=None):\n",
    "        aug1, aug2 = self.augmentor\n",
    "        x1, edge_index1, edge_weight1 = aug1(x, edge_index, edge_weight)\n",
    "        x2, edge_index2, edge_weight2 = aug2(x, edge_index, edge_weight)\n",
    "        z = self.encoder(x, edge_index, edge_weight)\n",
    "        z1 = self.encoder(x1, edge_index1, edge_weight1)\n",
    "        z2 = self.encoder(x2, edge_index2, edge_weight2)\n",
    "        return z, z1, z2\n",
    "\n",
    "    def project(self, z: torch.Tensor) -> torch.Tensor:\n",
    "        z = F.elu(self.fc1(z))\n",
    "        return self.fc2(z)\n",
    "\n",
    "\n",
    "def train(encoder_model, contrast_model, data, optimizer):\n",
    "    encoder_model.train()\n",
    "    optimizer.zero_grad()\n",
    "    z, z1, z2 = encoder_model(data.x, data.edge_index, data.edge_attr)\n",
    "    h1, h2 = [encoder_model.project(x) for x in [z1, z2]]\n",
    "    loss = contrast_model(h1, h2)\n",
    "    loss.backward()\n",
    "    optimizer.step()\n",
    "    return loss.item()\n",
    "\n",
    "\n",
    "def test(encoder_model, data):\n",
    "    encoder_model.eval()\n",
    "    z, _, _ = encoder_model(data.x, data.edge_index, data.edge_attr)\n",
    "    split = get_split(num_samples=z.size()[0], train_ratio=0.1, test_ratio=0.8)\n",
    "    result = LREvaluator()(z, data.y, split)\n",
    "    return result"
   ],
   "metadata": {
    "collapsed": false,
    "pycharm": {
     "name": "#%%\n"
    }
   }
  },
  {
   "cell_type": "markdown",
   "source": [
    "## Load Dataset"
   ],
   "metadata": {
    "collapsed": false
   }
  },
  {
   "cell_type": "code",
   "execution_count": 3,
   "outputs": [],
   "source": [
    "path = osp.join(osp.expanduser('~'), 'datasets')\n",
    "dataset = Planetoid(path, name='Cora', transform=T.NormalizeFeatures())\n",
    "data = dataset[0]\n",
    "N = data.num_nodes"
   ],
   "metadata": {
    "collapsed": false,
    "pycharm": {
     "name": "#%%\n"
    }
   }
  },
  {
   "cell_type": "markdown",
   "source": [
    "## Construct Model"
   ],
   "metadata": {
    "collapsed": false
   }
  },
  {
   "cell_type": "code",
   "execution_count": 6,
   "outputs": [],
   "source": [
    "def run_model(aug1, aug2):\n",
    "    gconv = GConv(input_dim=dataset.num_features, hidden_dim=32, activation=torch.nn.ReLU, num_layers=2)\n",
    "    # .to(device)\n",
    "    encoder_model = Encoder(encoder=gconv, augmentor=(aug1, aug2), hidden_dim=32, proj_dim=32)\n",
    "    # .to(device)\n",
    "    contrast_model = DualBranchContrast(loss=L.InfoNCE(tau=0.2), mode='L2L', intraview_negs=True)\n",
    "    # .to(device)\n",
    "\n",
    "    optimizer = Adam(encoder_model.parameters(), lr=0.01)\n",
    "\n",
    "    with tqdm(total=1000, desc='(T)') as pbar:\n",
    "        for epoch in range(1, 1001):\n",
    "            loss = train(encoder_model, contrast_model, data, optimizer)\n",
    "            pbar.set_postfix({'loss': loss})\n",
    "            pbar.update()\n",
    "\n",
    "            if epoch % 200 == 0:\n",
    "                print(f'epoch={epoch}, loss={loss}')\n",
    "\n",
    "\n",
    "    test_result = test(encoder_model, data)\n",
    "    print(f'(E): Best test F1Mi={test_result[\"micro_f1\"]:.4f}, F1Ma={test_result[\"macro_f1\"]:.4f}')"
   ],
   "metadata": {
    "collapsed": false,
    "pycharm": {
     "name": "#%%\n"
    }
   }
  },
  {
   "cell_type": "markdown",
   "source": [
    "# Experiments by Proposed Model"
   ],
   "metadata": {
    "collapsed": false
   }
  },
  {
   "cell_type": "markdown",
   "source": [
    "## (Proposed) Running Example for 'FM+TopK' on Cora Dataset"
   ],
   "metadata": {
    "collapsed": false
   }
  },
  {
   "cell_type": "markdown",
   "source": [],
   "metadata": {
    "collapsed": false
   }
  },
  {
   "cell_type": "code",
   "execution_count": 5,
   "outputs": [
    {
     "name": "stdout",
     "output_type": "stream",
     "text": [
      "=================================================================\n",
      "k_ratio=0.3, TopKSubgraph_k=812\n"
     ]
    },
    {
     "name": "stderr",
     "output_type": "stream",
     "text": [
      "(T): 100%|██████████| 1000/1000 [07:08<00:00,  2.34it/s, loss=4.77]\n",
      "(LR): 100%|██████████| 1000/1000 [00:00<00:00, best test F1Mi=0.809, F1Ma=0.772]"
     ]
    },
    {
     "name": "stdout",
     "output_type": "stream",
     "text": [
      "(E): Best test F1Mi=0.8088, F1Ma=0.7724\n"
     ]
    },
    {
     "name": "stderr",
     "output_type": "stream",
     "text": [
      "\n"
     ]
    }
   ],
   "source": [
    "r = 0.3\n",
    "k = round(N * r)\n",
    "print(f'=================================================================')\n",
    "print(f'k_ratio={r}, TopKSubgraph_k={k}')\n",
    "aug1 = A.Compose([A.FeatureMasking(pf=0.3),\n",
    "                  A.TopKSubgraph(N, k=k)])\n",
    "aug2 = A.Compose([A.FeatureMasking(pf=0.3),\n",
    "                  A.TopKSubgraph(N, k=k)])\n",
    "run_model(aug1, aug2)"
   ],
   "metadata": {
    "collapsed": false,
    "pycharm": {
     "name": "#%%\n"
    }
   }
  },
  {
   "cell_type": "markdown",
   "source": [
    "## (Proposed) Running Example for 'FM+Khop' on Cora Dataset"
   ],
   "metadata": {
    "collapsed": false
   }
  },
  {
   "cell_type": "code",
   "execution_count": 7,
   "outputs": [
    {
     "name": "stdout",
     "output_type": "stream",
     "text": [
      "=================================================================\n",
      "k_ratio=0.2, k=542, KhopSubgraph_num_hops=4\n"
     ]
    },
    {
     "name": "stderr",
     "output_type": "stream",
     "text": [
      "(T):  20%|██        | 200/1000 [01:39<06:53,  1.93it/s, loss=5.51]"
     ]
    },
    {
     "name": "stdout",
     "output_type": "stream",
     "text": [
      "epoch=200, loss=5.5083088874816895\n"
     ]
    },
    {
     "name": "stderr",
     "output_type": "stream",
     "text": [
      "(T):  40%|████      | 400/1000 [03:19<04:48,  2.08it/s, loss=5.1] "
     ]
    },
    {
     "name": "stdout",
     "output_type": "stream",
     "text": [
      "epoch=400, loss=5.104148864746094\n"
     ]
    },
    {
     "name": "stderr",
     "output_type": "stream",
     "text": [
      "(T):  60%|██████    | 600/1000 [05:01<03:11,  2.08it/s, loss=4.82]"
     ]
    },
    {
     "name": "stdout",
     "output_type": "stream",
     "text": [
      "epoch=600, loss=4.822461128234863\n"
     ]
    },
    {
     "name": "stderr",
     "output_type": "stream",
     "text": [
      "(T):  80%|████████  | 800/1000 [06:38<01:38,  2.03it/s, loss=4.71]"
     ]
    },
    {
     "name": "stdout",
     "output_type": "stream",
     "text": [
      "epoch=800, loss=4.709908485412598\n"
     ]
    },
    {
     "name": "stderr",
     "output_type": "stream",
     "text": [
      "(T): 100%|██████████| 1000/1000 [08:25<00:00,  1.98it/s, loss=4.6]\n"
     ]
    },
    {
     "name": "stdout",
     "output_type": "stream",
     "text": [
      "epoch=1000, loss=4.598392963409424\n"
     ]
    },
    {
     "name": "stderr",
     "output_type": "stream",
     "text": [
      "(LR): 100%|██████████| 1000/1000 [00:00<00:00, best test F1Mi=0.735, F1Ma=0.707]"
     ]
    },
    {
     "name": "stdout",
     "output_type": "stream",
     "text": [
      "(E): Best test F1Mi=0.7353, F1Ma=0.7071\n"
     ]
    },
    {
     "name": "stderr",
     "output_type": "stream",
     "text": [
      "\n"
     ]
    }
   ],
   "source": [
    "r = 0.2\n",
    "k = round(N * r)\n",
    "num_hop = 4\n",
    "print(f'=================================================================')\n",
    "print(f'k_ratio={r}, k={k}, KhopSubgraph_num_hops={num_hop}')\n",
    "aug1 = A.Compose([A.FeatureMasking(pf=0.3),\n",
    "                  A.KhopSubgraph(N, k=k, num_hops=num_hop)])\n",
    "aug2 = A.Compose([A.FeatureMasking(pf=0.3),\n",
    "                  A.KhopSubgraph(N, k=k, num_hops=num_hop)])\n",
    "run_model(aug1, aug2)"
   ],
   "metadata": {
    "collapsed": false,
    "pycharm": {
     "name": "#%%\n"
    }
   }
  },
  {
   "cell_type": "markdown",
   "source": [],
   "metadata": {
    "collapsed": false
   }
  },
  {
   "cell_type": "markdown",
   "source": [
    "## Runing Example for Augmentation Schemes Used in GRACE"
   ],
   "metadata": {
    "collapsed": false
   }
  },
  {
   "cell_type": "code",
   "execution_count": 8,
   "outputs": [
    {
     "name": "stdout",
     "output_type": "stream",
     "text": [
      "aug=[A.EdgeRemoving(pe=0.3), A.FeatureMasking(pf=0.3)]\n",
      "====================================================================================\n"
     ]
    },
    {
     "name": "stderr",
     "output_type": "stream",
     "text": [
      "(T):  20%|██        | 200/1000 [01:36<05:52,  2.27it/s, loss=5.76]"
     ]
    },
    {
     "name": "stdout",
     "output_type": "stream",
     "text": [
      "epoch=200, loss=5.760686874389648\n"
     ]
    },
    {
     "name": "stderr",
     "output_type": "stream",
     "text": [
      "(T):  40%|████      | 400/1000 [03:12<04:47,  2.09it/s, loss=5.36]"
     ]
    },
    {
     "name": "stdout",
     "output_type": "stream",
     "text": [
      "epoch=400, loss=5.358218193054199\n"
     ]
    },
    {
     "name": "stderr",
     "output_type": "stream",
     "text": [
      "(T):  60%|██████    | 600/1000 [04:46<02:42,  2.46it/s, loss=5.04]"
     ]
    },
    {
     "name": "stdout",
     "output_type": "stream",
     "text": [
      "epoch=600, loss=5.0408616065979\n"
     ]
    },
    {
     "name": "stderr",
     "output_type": "stream",
     "text": [
      "(T):  80%|████████  | 800/1000 [06:11<01:25,  2.35it/s, loss=4.93]"
     ]
    },
    {
     "name": "stdout",
     "output_type": "stream",
     "text": [
      "epoch=800, loss=4.932802200317383\n"
     ]
    },
    {
     "name": "stderr",
     "output_type": "stream",
     "text": [
      "(T): 100%|██████████| 1000/1000 [07:38<00:00,  2.18it/s, loss=4.86]\n"
     ]
    },
    {
     "name": "stdout",
     "output_type": "stream",
     "text": [
      "epoch=1000, loss=4.859668254852295\n"
     ]
    },
    {
     "name": "stderr",
     "output_type": "stream",
     "text": [
      "(LR): 100%|██████████| 1000/1000 [00:00<00:00, best test F1Mi=0.739, F1Ma=0.701]"
     ]
    },
    {
     "name": "stdout",
     "output_type": "stream",
     "text": [
      "(E): Best test F1Mi=0.7390, F1Ma=0.7011\n"
     ]
    },
    {
     "name": "stderr",
     "output_type": "stream",
     "text": [
      "\n"
     ]
    }
   ],
   "source": [
    "pe = 0.3\n",
    "print('====================================================================================')\n",
    "print(f'Experimental result for baseline --- GRACE')\n",
    "aug1 = A.Compose([A.EdgeRemoving(pe=pe), A.FeatureMasking(pf=0.3)])\n",
    "aug2 = A.Compose([A.EdgeRemoving(pe=pe), A.FeatureMasking(pf=0.3)])\n",
    "run_model(aug1, aug2)"
   ],
   "metadata": {
    "collapsed": false,
    "pycharm": {
     "name": "#%%\n"
    }
   }
  },
  {
   "cell_type": "markdown",
   "source": [
    "## Running Example for Augmentation Schemes Used in GraphCL"
   ],
   "metadata": {
    "collapsed": false
   }
  },
  {
   "cell_type": "code",
   "execution_count": 9,
   "outputs": [
    {
     "name": "stdout",
     "output_type": "stream",
     "text": [
      "=================================================================\n",
      "Experimental result for baseline --- GraphCL\n"
     ]
    },
    {
     "name": "stderr",
     "output_type": "stream",
     "text": [
      "(T):  20%|██        | 200/1000 [01:24<05:28,  2.43it/s, loss=5.21]"
     ]
    },
    {
     "name": "stdout",
     "output_type": "stream",
     "text": [
      "epoch=200, loss=5.208513259887695\n"
     ]
    },
    {
     "name": "stderr",
     "output_type": "stream",
     "text": [
      "(T):  40%|████      | 400/1000 [02:48<04:07,  2.43it/s, loss=4.8] "
     ]
    },
    {
     "name": "stdout",
     "output_type": "stream",
     "text": [
      "epoch=400, loss=4.804235458374023\n"
     ]
    },
    {
     "name": "stderr",
     "output_type": "stream",
     "text": [
      "(T):  60%|██████    | 600/1000 [04:11<02:42,  2.46it/s, loss=4.51]"
     ]
    },
    {
     "name": "stdout",
     "output_type": "stream",
     "text": [
      "epoch=600, loss=4.507873058319092\n"
     ]
    },
    {
     "name": "stderr",
     "output_type": "stream",
     "text": [
      "(T):  80%|████████  | 800/1000 [05:34<01:29,  2.23it/s, loss=4.47]"
     ]
    },
    {
     "name": "stdout",
     "output_type": "stream",
     "text": [
      "epoch=800, loss=4.471333026885986\n"
     ]
    },
    {
     "name": "stderr",
     "output_type": "stream",
     "text": [
      "(T): 100%|██████████| 1000/1000 [07:14<00:00,  2.30it/s, loss=4.4]\n"
     ]
    },
    {
     "name": "stdout",
     "output_type": "stream",
     "text": [
      "epoch=1000, loss=4.403059005737305\n"
     ]
    },
    {
     "name": "stderr",
     "output_type": "stream",
     "text": [
      "(LR): 100%|██████████| 1000/1000 [00:00<00:00, best test F1Mi=0.647, F1Ma=0.634]"
     ]
    },
    {
     "name": "stdout",
     "output_type": "stream",
     "text": [
      "(E): Best test F1Mi=0.6471, F1Ma=0.6339\n"
     ]
    },
    {
     "name": "stderr",
     "output_type": "stream",
     "text": [
      "\n"
     ]
    }
   ],
   "source": [
    "print(f'=================================================================')\n",
    "print(f'Experimental result for baseline --- GraphCL')\n",
    "aug1 = A.Identity()\n",
    "aug2 = A.RandomChoice([A.RWSampling(num_seeds=1000, walk_length=10),\n",
    "                   A.NodeDropping(pn=0.1),\n",
    "                   A.FeatureMasking(pf=0.1),\n",
    "                   A.EdgeRemoving(pe=0.1)], 1)\n",
    "run_model(aug1, aug2)"
   ],
   "metadata": {
    "collapsed": false,
    "pycharm": {
     "name": "#%%\n"
    }
   }
  },
  {
   "cell_type": "markdown",
   "source": [
    "## Running Example for Augmentation Schemes Used in MVGRL"
   ],
   "metadata": {
    "collapsed": false
   }
  },
  {
   "cell_type": "code",
   "execution_count": 10,
   "outputs": [
    {
     "name": "stdout",
     "output_type": "stream",
     "text": [
      "=================================================================\n",
      "Experimental result for baseline --- MVGRL\n"
     ]
    },
    {
     "name": "stderr",
     "output_type": "stream",
     "text": [
      "(T):  20%|██        | 200/1000 [02:25<09:36,  1.39it/s, loss=5.66]"
     ]
    },
    {
     "name": "stdout",
     "output_type": "stream",
     "text": [
      "epoch=200, loss=5.655943870544434\n"
     ]
    },
    {
     "name": "stderr",
     "output_type": "stream",
     "text": [
      "(T):  40%|████      | 400/1000 [04:57<07:51,  1.27it/s, loss=4.95]"
     ]
    },
    {
     "name": "stdout",
     "output_type": "stream",
     "text": [
      "epoch=400, loss=4.946862697601318\n"
     ]
    },
    {
     "name": "stderr",
     "output_type": "stream",
     "text": [
      "(T):  60%|██████    | 600/1000 [07:19<04:39,  1.43it/s, loss=4.57]"
     ]
    },
    {
     "name": "stdout",
     "output_type": "stream",
     "text": [
      "epoch=600, loss=4.5692033767700195\n"
     ]
    },
    {
     "name": "stderr",
     "output_type": "stream",
     "text": [
      "(T):  80%|████████  | 800/1000 [09:40<02:21,  1.42it/s, loss=4.45]"
     ]
    },
    {
     "name": "stdout",
     "output_type": "stream",
     "text": [
      "epoch=800, loss=4.454775810241699\n"
     ]
    },
    {
     "name": "stderr",
     "output_type": "stream",
     "text": [
      "(T): 100%|██████████| 1000/1000 [12:08<00:00,  1.37it/s, loss=4.36]\n"
     ]
    },
    {
     "name": "stdout",
     "output_type": "stream",
     "text": [
      "epoch=1000, loss=4.362445831298828\n"
     ]
    },
    {
     "name": "stderr",
     "output_type": "stream",
     "text": [
      "(LR): 100%|██████████| 1000/1000 [00:00<00:00, best test F1Mi=0.57, F1Ma=0.523]\n"
     ]
    },
    {
     "name": "stdout",
     "output_type": "stream",
     "text": [
      "(E): Best test F1Mi=0.5699, F1Ma=0.5228\n"
     ]
    }
   ],
   "source": [
    "print(f'=================================================================')\n",
    "print(f'Experimental result for baseline --- MVGRL')\n",
    "aug1 = A.Identity()\n",
    "aug2 = A.PPRDiffusion(alpha=0.2)\n",
    "run_model(aug1, aug2)"
   ],
   "metadata": {
    "collapsed": false,
    "pycharm": {
     "name": "#%%\n"
    }
   }
  },
  {
   "cell_type": "markdown",
   "source": [],
   "metadata": {
    "collapsed": false
   }
  },
  {
   "cell_type": "code",
   "execution_count": null,
   "outputs": [],
   "source": [],
   "metadata": {
    "collapsed": false,
    "pycharm": {
     "name": "#%%\n"
    }
   }
  },
  {
   "cell_type": "markdown",
   "source": [],
   "metadata": {
    "collapsed": false
   }
  }
 ],
 "metadata": {
  "kernelspec": {
   "display_name": "Python 3",
   "language": "python",
   "name": "python3"
  },
  "language_info": {
   "codemirror_mode": {
    "name": "ipython",
    "version": 2
   },
   "file_extension": ".py",
   "mimetype": "text/x-python",
   "name": "python",
   "nbconvert_exporter": "python",
   "pygments_lexer": "ipython2",
   "version": "2.7.6"
  }
 },
 "nbformat": 4,
 "nbformat_minor": 0
}